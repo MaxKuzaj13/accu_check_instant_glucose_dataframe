{
 "cells": [
  {
   "cell_type": "code",
   "execution_count": null,
   "metadata": {},
   "outputs": [],
   "source": [
    "# Import pandas if you dont have instated you can use requirements.txt to install it\n",
    "import pandas as pd\n"
   ]
  },
  {
   "cell_type": "code",
   "execution_count": null,
   "metadata": {},
   "outputs": [],
   "source": [
    "# Pleas enter the date from which you want to start the reports \n",
    "start_reports='2023-10-10'\n",
    "\n",
    "# Choose language 'ENG' for English or 'POL' Polish default language is English \n",
    "language_choice = 'POL'\n",
    "\n",
    "if language_choice == 'POL':\n",
    "    labels = ['Nadczo', 'Po śniadaniu', 'Po obiedzie', 'Po kolacji']\n",
    "    output_name = f'Zbiorcze zestawienie poziomu cukru od dnia {start_reports}.csv'\n",
    "else:\n",
    "    labels = ['Fasting', 'After breakfast', 'After lunch', 'After dinner']\n",
    "    output_name = f'Summary of sugar levels from date {start_reports}.csv'\n",
    "\n",
    "# Chosen start reports date language and labels\n",
    "print(f'''\n",
    "Start reports date is: {start_reports},\n",
    "language is: {language_choice}, \n",
    "chosen labels is: {', '.join(labels)}\n",
    "''')"
   ]
  },
  {
   "cell_type": "code",
   "execution_count": null,
   "metadata": {},
   "outputs": [],
   "source": [
    "# Read data form Accu-Check instant glucose meter \n",
    "df_import = pd.read_csv('Sample_data.csv')\n"
   ]
  },
  {
   "cell_type": "code",
   "execution_count": null,
   "metadata": {},
   "outputs": [],
   "source": [
    "# Print out columns name\n",
    "df_import.columns"
   ]
  },
  {
   "cell_type": "code",
   "execution_count": null,
   "metadata": {},
   "outputs": [],
   "source": [
    "# Choose to necessary columns to reduce size Data Frame\n",
    "df_selected_columns = df_import[['Date','Time', 'Blood Sugar Measurement (mg/dL)']]\n",
    "\n",
    "# Rename columns names to keep naming convention in Python\n",
    "df_convert_format = df_selected_columns.rename(columns={'Date': 'date', 'Time': 'time', 'Blood Sugar Measurement (mg/dL)': 'sugar'})\n",
    "\n",
    "# Convert 'date', 'time' column to date format and create datetime combining 'date' and 'time'\n",
    "df_convert_format['date'] = pd.to_datetime(df_convert_format['date'])\n",
    "df_convert_format['time'] = pd.to_datetime(df_convert_format['time'], format='%I:%M:%S %p').dt.time\n",
    "df_convert_format['datetime'] = df_convert_format['date'] + pd.to_timedelta(df_convert_format['time'].apply(lambda x: x.strftime('%H:%M:%S')))\n",
    "\n",
    "# Print out result\n",
    "df_convert_format"
   ]
  },
  {
   "cell_type": "code",
   "execution_count": null,
   "metadata": {},
   "outputs": [],
   "source": [
    "# Filter out unnecessary data (older than \"start_reports\" and containing non-null values in the \"sugar\" column)\n",
    "filtered_df = df_convert_format[(df_convert_format['date'] >= start_reports) & (~df_convert_format['sugar'].isna())]\n",
    "filtered_df"
   ]
  },
  {
   "cell_type": "code",
   "execution_count": null,
   "metadata": {},
   "outputs": [],
   "source": [
    "# Convert 'sugar' column to integer type hint it is necessary to 'sugar' column not contains null value in previous step\n",
    "filtered_df.loc[:, 'sugar'] = filtered_df['sugar'].astype(int)\n",
    "\n",
    "# Display the converted data\n",
    "df = filtered_df.sort_values(by=['date', 'time', 'sugar'], ascending=[False, False, True])\n",
    "\n",
    "# Print first 20 values\n",
    "df.head(20)"
   ]
  },
  {
   "cell_type": "code",
   "execution_count": null,
   "metadata": {},
   "outputs": [],
   "source": [
    "# Get fasting data \n",
    "df_fasting = df.drop_duplicates('date', keep='last')\n",
    "print(f'Data size before removing to late time {df_fasting.shape[0]} ')\n",
    "\n",
    "# Remove if the first blood sugar measurement was after 11 am. \n",
    "df_fasting = df_fasting[df_fasting['time'] <= pd.to_datetime('11:00:00').time()]\n",
    "\n",
    "# Label as 'Fasting'\n",
    "df_fasting['label'] = labels[0]\n",
    "\n",
    "# Size after data \n",
    "print(f'Data size after removing to late time {df_fasting.shape[0]}')\n",
    "\n",
    "# Print data \n",
    "df_fasting"
   ]
  },
  {
   "cell_type": "code",
   "execution_count": null,
   "metadata": {},
   "outputs": [],
   "source": [
    "# Get After dinner measurement we assume that is after 7 pm. \n",
    "df_dinner = df.drop_duplicates('date', keep='first').loc[df['time']>= pd.to_datetime('19:00:00').time()]\n",
    "\n",
    "# Label data as 'After dinner'\n",
    "df_dinner['label'] = labels[3]\n",
    "\n",
    "# Print data \n",
    "df_dinner"
   ]
  },
  {
   "cell_type": "code",
   "execution_count": null,
   "metadata": {},
   "outputs": [],
   "source": [
    "# Merge data with fasting and after dinner to reduce Data Frame data categorized to one of this group on next step  \n",
    "merged_df_dinner = df.merge(df_dinner[['date', 'datetime']], on='date', suffixes=('_df', '_dinner'))\n",
    "merged_df_dinner_fasting = merged_df_dinner.merge(df_fasting[['date', 'datetime']].rename(columns={'datetime': 'datetime_fasting'}), on='date', how='left')\n",
    "\n",
    "# Print first 20 rows\n",
    "merged_df_dinner_fasting.head(20)\n"
   ]
  },
  {
   "cell_type": "code",
   "execution_count": null,
   "metadata": {},
   "outputs": [],
   "source": [
    "# Get lower sugar level 2 hours after lunch we assuming it will be between 6-1 hours before \"After dinner\" measurement \n",
    "df_lunch= merged_df_dinner_fasting[(merged_df_dinner_fasting['datetime_dinner'] - merged_df_dinner_fasting['datetime_df'] < pd.Timedelta(hours=6)) & \n",
    "                                    (merged_df_dinner_fasting['datetime_dinner'] - merged_df_dinner_fasting['datetime_df'] >= pd.Timedelta(hours=1))]\n",
    "\n",
    "# Sort values date and sugar ascending\n",
    "df_lunch = df_lunch.sort_values(by=['date', 'sugar'], ascending=[True, True])\n",
    "\n",
    "# Get lower sugar level from each day\n",
    "df_lunch_get_better = df_lunch.groupby('date').first().reset_index()\n",
    "\n",
    "# Label as after lunch\n",
    "df_lunch_get_better['label'] = labels[2]\n",
    "\n",
    "# Print out better result after lunch\n",
    "df_lunch_get_better"
   ]
  },
  {
   "cell_type": "code",
   "execution_count": null,
   "metadata": {},
   "outputs": [],
   "source": [
    "# Get lower sugar level 2 hours after breakfast we assuming it will be between 6-1 hours after \"Fasting\" measurement \n",
    "df_breakfast= merged_df_dinner_fasting[(merged_df_dinner_fasting['datetime_df'] - merged_df_dinner_fasting['datetime_fasting'] < pd.Timedelta(hours=6)) & \n",
    "                                       (merged_df_dinner_fasting['datetime_df'] - merged_df_dinner_fasting['datetime_fasting'] > pd.Timedelta(hours=1))]\n",
    "\n",
    "# Sort values date and sugar ascending\n",
    "df_breakfast = df_breakfast.sort_values(by=['date', 'sugar'], ascending=[True, True])\n",
    "\n",
    "# Get lower sugar level from each day after breakfast\n",
    "df_breakfast_get_better = df_breakfast.groupby('date').first().reset_index()\n",
    "\n",
    "# Label as after breakfast\n",
    "df_breakfast_get_better['label'] = labels[1]\n",
    "\n",
    "# Print out better result after breakfast\n",
    "df_breakfast_get_better"
   ]
  },
  {
   "cell_type": "code",
   "execution_count": null,
   "metadata": {},
   "outputs": [],
   "source": [
    "# Merge all selected Data Frame in to one\n",
    "df = pd.concat([df_dinner, df_breakfast_get_better, df_lunch_get_better, df_fasting])\n",
    "\n",
    "# Filling missing data and for 2 labels categories (after merging was added suffix) if datetime doesn't contain data in 'datetime'\n",
    "df['datetime'] = df['datetime'].fillna(df['datetime_df'])\n",
    "\n",
    "# Keep only selected columns \n",
    "df_selected_columns = df[['date', 'time', 'sugar', 'datetime', 'label']].copy()\n",
    "\n",
    "# Print before export data\n",
    "df_selected_columns"
   ]
  },
  {
   "cell_type": "code",
   "execution_count": null,
   "metadata": {},
   "outputs": [],
   "source": [
    "df_selected_columns['sugar'] = df_selected_columns['sugar'].astype(int)\n",
    "df_selected_columns"
   ]
  },
  {
   "cell_type": "code",
   "execution_count": null,
   "metadata": {},
   "outputs": [],
   "source": [
    "# Create pivot table using sugar level data per day, to remove duplicates used aggregation function take minimal\n",
    "pivot_table = df_selected_columns.pivot_table(index='date', columns='label', values='sugar', aggfunc='min')\n",
    "\n",
    "# Rearrange order columns to have as in labels list\n",
    "pivot_table = pivot_table.reindex(columns=labels)\n",
    "\n",
    "# Save as output file\n",
    "pivot_table.to_csv(output_name)\n",
    "\n",
    "# Print out final data\n",
    "pivot_table"
   ]
  },
  {
   "cell_type": "code",
   "execution_count": null,
   "metadata": {},
   "outputs": [],
   "source": [
    "# Styled table\n",
    "# set data as %Y-%m-%d format\n",
    "pivot_table.index = pd.to_datetime(pivot_table.index).strftime('%Y-%m-%d').str[:10]\n",
    "\n",
    "# Round sugar to integer or put empty string\n",
    "styled_table = pivot_table.style\\\n",
    "    .format({col: lambda x: f\"{int(x):.0f}\" if not pd.isna(x) else '' for col in pivot_table.columns})\\\n",
    "    .set_table_styles([{'selector': 'th', 'props': [('text-align', 'center')]}])\\\n",
    "    .set_caption(output_name)\\\n",
    "    .set_properties(**{'color': 'black',\n",
    "                       'border-color': 'white'})\n",
    "\n",
    "# Adding background gradient and show table\n",
    "styled_table_with_gradient = styled_table.background_gradient(cmap='pink_r', axis=None)\n",
    "styled_table_with_gradient"
   ]
  },
  {
   "cell_type": "code",
   "execution_count": null,
   "metadata": {},
   "outputs": [],
   "source": [
    "# Export to excel:\n",
    "styled_table_with_gradient.to_excel('Excel_export.xlsx', engine='openpyxl', index=False)\n",
    "# Export to html:\n",
    "styled_table_with_gradient.to_html('Html_export.html')\n"
   ]
  },
  {
   "cell_type": "code",
   "execution_count": null,
   "metadata": {},
   "outputs": [],
   "source": []
  },
  {
   "cell_type": "code",
   "execution_count": null,
   "metadata": {},
   "outputs": [],
   "source": []
  }
 ],
 "metadata": {
  "kernelspec": {
   "display_name": "Python 3",
   "language": "python",
   "name": "python3"
  },
  "language_info": {
   "codemirror_mode": {
    "name": "ipython",
    "version": 3
   },
   "file_extension": ".py",
   "mimetype": "text/x-python",
   "name": "python",
   "nbconvert_exporter": "python",
   "pygments_lexer": "ipython3",
   "version": "3.12.2"
  }
 },
 "nbformat": 4,
 "nbformat_minor": 2
}
